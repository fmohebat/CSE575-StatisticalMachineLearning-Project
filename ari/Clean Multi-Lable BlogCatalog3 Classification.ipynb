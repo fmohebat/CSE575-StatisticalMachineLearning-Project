{
 "cells": [
  {
   "cell_type": "code",
   "execution_count": 64,
   "metadata": {},
   "outputs": [],
   "source": [
    "import pandas as pd\n",
    "import numpy as np\n",
    "\n",
    "from sklearn.tree import DecisionTreeClassifier\n",
    "from sklearn.ensemble import RandomForestClassifier\n",
    "from sklearn.neighbors import KNeighborsClassifier\n",
    "from sklearn.neural_network import MLPClassifier\n",
    "\n",
    "from sklearn.model_selection import train_test_split\n",
    "from sklearn.metrics import f1_score"
   ]
  },
  {
   "cell_type": "markdown",
   "metadata": {},
   "source": [
    "## Data Pre-Processing\n",
    "- Read in labels and convert to k-encoding thus vector of size 1XK of zeroes with ith index set for ith group\n",
    "- Read in node embedding, convert to dictionary with key: node, value: vector in embedded space, convert to df\n",
    "- Sort both dataframes by column. Dimensions of results are **Labels: K X N, Patterns: D X N**"
   ]
  },
  {
   "cell_type": "code",
   "execution_count": 65,
   "metadata": {},
   "outputs": [],
   "source": [
    "labels = pd.read_csv('group-edges.csv',header=None)\n",
    "# convert labels to a dict\n",
    "label_dict = dict()\n",
    "for k, node in enumerate(labels.iloc[:,0]):\n",
    "    label_dict[node] =label_dict.get(node, []) + [labels.iloc[k,1]]\n",
    "\n",
    "# pre-process the label dict to k-encoding\n",
    "labels_encoded = dict()\n",
    "for key in label_dict.keys():\n",
    "    temp_array = np.zeros([39,])\n",
    "    indices = np.array(label_dict.get(key))-1\n",
    "    temp_array[indices] = 1\n",
    "    labels_encoded[key]=temp_array\n",
    "\n",
    "k_encoded = pd.DataFrame(labels_encoded)\n",
    "encoded_sorted = k_encoded.reindex(sorted(k_encoded.columns),axis=1)"
   ]
  },
  {
   "cell_type": "code",
   "execution_count": 66,
   "metadata": {},
   "outputs": [],
   "source": [
    "emd_file = open(\"blog3.emd\", \"r+\")\n",
    "\n",
    "first_line = emd_file.readline()\n",
    "num_of_nodes = first_line.split(\" \")[0]\n",
    "num_of_nodes = int(num_of_nodes)\n",
    "\n",
    "data = dict()\n",
    "for node_num in range(num_of_nodes):\n",
    "    line = emd_file.readline()\n",
    "    temp_data = []\n",
    "    for val in line.split(\" \"):\n",
    "        temp_data.append(float(val))\n",
    "    data[int(temp_data[0])]=np.array(temp_data[1:])\n",
    "\n",
    "patterns = pd.DataFrame(data)\n",
    "patterns_sorted = patterns.reindex(sorted(patterns.columns),axis=1)"
   ]
  },
  {
   "cell_type": "markdown",
   "metadata": {},
   "source": [
    "## Data classification and evaluation\n",
    "- Produce a train-test split of the patterns and labels, converting dimensions to N X D, N X K respectively\n",
    "- Fit the classifier, then evaluate the Micro and Macro F1 scores"
   ]
  },
  {
   "cell_type": "code",
   "execution_count": 67,
   "metadata": {},
   "outputs": [],
   "source": [
    "# Extension to list of classifiers ...\n",
    "seed = 0\n",
    "clf_list = [DecisionTreeClassifier(random_state=seed),\n",
    "            KNeighborsClassifier(n_neighbors=3),\n",
    "            MLPClassifier(random_state=seed, max_iter=500),\n",
    "            RandomForestClassifier(random_state=seed)]"
   ]
  },
  {
   "cell_type": "code",
   "execution_count": 68,
   "metadata": {},
   "outputs": [],
   "source": [
    "def evaluate_clf(clf, X_train, X_test, y_train, y_test):\n",
    "    clf.fit(X_train, y_train)\n",
    "    print(\"Macro f1: \", f1_score(y_test, clf.predict(X_test), average='macro'))\n",
    "    print(\"Micro f1: \", f1_score(y_test, clf.predict(X_test), average='micro'))"
   ]
  },
  {
   "cell_type": "code",
   "execution_count": 69,
   "metadata": {},
   "outputs": [
    {
     "name": "stdout",
     "output_type": "stream",
     "text": [
      "DecisionTreeClassifier \n",
      "\n"
     ]
    },
    {
     "name": "stderr",
     "output_type": "stream",
     "text": [
      "/home/joelm/anaconda3/lib/python3.7/site-packages/sklearn/metrics/classification.py:1145: UndefinedMetricWarning: F-score is ill-defined and being set to 0.0 in labels with no true samples.\n",
      "  'recall', 'true', average, warn_for)\n"
     ]
    },
    {
     "name": "stdout",
     "output_type": "stream",
     "text": [
      "Macro f1:  0.09228766961214697\n",
      "Micro f1:  0.17308347529812607\n",
      "\n",
      "\n",
      "\n",
      "KNeighborsClassifier \n",
      "\n"
     ]
    },
    {
     "name": "stderr",
     "output_type": "stream",
     "text": [
      "/home/joelm/anaconda3/lib/python3.7/site-packages/sklearn/metrics/classification.py:1143: UndefinedMetricWarning: F-score is ill-defined and being set to 0.0 in labels with no predicted samples.\n",
      "  'precision', 'predicted', average, warn_for)\n",
      "/home/joelm/anaconda3/lib/python3.7/site-packages/sklearn/metrics/classification.py:1145: UndefinedMetricWarning: F-score is ill-defined and being set to 0.0 in labels with no true samples.\n",
      "  'recall', 'true', average, warn_for)\n"
     ]
    },
    {
     "name": "stdout",
     "output_type": "stream",
     "text": [
      "Macro f1:  0.12238584795801344\n",
      "Micro f1:  0.25735687533440343\n",
      "\n",
      "\n",
      "\n",
      "MLPClassifier \n",
      "\n"
     ]
    },
    {
     "name": "stderr",
     "output_type": "stream",
     "text": [
      "/home/joelm/anaconda3/lib/python3.7/site-packages/sklearn/neural_network/multilayer_perceptron.py:562: ConvergenceWarning: Stochastic Optimizer: Maximum iterations (500) reached and the optimization hasn't converged yet.\n",
      "  % self.max_iter, ConvergenceWarning)\n",
      "/home/joelm/anaconda3/lib/python3.7/site-packages/sklearn/metrics/classification.py:1143: UndefinedMetricWarning: F-score is ill-defined and being set to 0.0 in labels with no predicted samples.\n",
      "  'precision', 'predicted', average, warn_for)\n",
      "/home/joelm/anaconda3/lib/python3.7/site-packages/sklearn/metrics/classification.py:1145: UndefinedMetricWarning: F-score is ill-defined and being set to 0.0 in labels with no true samples.\n",
      "  'recall', 'true', average, warn_for)\n",
      "/home/joelm/anaconda3/lib/python3.7/site-packages/sklearn/ensemble/forest.py:246: FutureWarning: The default value of n_estimators will change from 10 in version 0.20 to 100 in 0.22.\n",
      "  \"10 in version 0.20 to 100 in 0.22.\", FutureWarning)\n"
     ]
    },
    {
     "name": "stdout",
     "output_type": "stream",
     "text": [
      "Macro f1:  0.20726621584938756\n",
      "Micro f1:  0.3400247831474597\n",
      "\n",
      "\n",
      "\n",
      "RandomForestClassifier \n",
      "\n",
      "Macro f1:  0.05712354425418981\n",
      "Micro f1:  0.1379980563654033\n",
      "\n",
      "\n",
      "\n"
     ]
    },
    {
     "name": "stderr",
     "output_type": "stream",
     "text": [
      "/home/joelm/anaconda3/lib/python3.7/site-packages/sklearn/metrics/classification.py:1143: UndefinedMetricWarning: F-score is ill-defined and being set to 0.0 in labels with no predicted samples.\n",
      "  'precision', 'predicted', average, warn_for)\n",
      "/home/joelm/anaconda3/lib/python3.7/site-packages/sklearn/metrics/classification.py:1145: UndefinedMetricWarning: F-score is ill-defined and being set to 0.0 in labels with no true samples.\n",
      "  'recall', 'true', average, warn_for)\n"
     ]
    }
   ],
   "source": [
    "X_train, X_test, y_train, y_test = train_test_split(patterns_sorted.values.T, encoded_sorted.values.T, \n",
    "                                                    test_size=.20,random_state=0)\n",
    "for clf in clf_list:\n",
    "    print(clf.__class__.__name__, \"\\n\")\n",
    "    evaluate_clf(clf, X_train, X_test, y_train, y_test)\n",
    "    print(\"\\n\\n\")"
   ]
  },
  {
   "cell_type": "code",
   "execution_count": null,
   "metadata": {},
   "outputs": [],
   "source": []
  }
 ],
 "metadata": {
  "kernelspec": {
   "display_name": "Python 3",
   "language": "python",
   "name": "python3"
  },
  "language_info": {
   "codemirror_mode": {
    "name": "ipython",
    "version": 3
   },
   "file_extension": ".py",
   "mimetype": "text/x-python",
   "name": "python",
   "nbconvert_exporter": "python",
   "pygments_lexer": "ipython3",
   "version": "3.7.1"
  }
 },
 "nbformat": 4,
 "nbformat_minor": 2
}
